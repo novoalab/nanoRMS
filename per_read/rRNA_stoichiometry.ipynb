{
 "cells": [
  {
   "cell_type": "code",
   "execution_count": 1,
   "metadata": {},
   "outputs": [],
   "source": [
    "import os, matplotlib.pyplot as plt, numpy as np, pandas as pd\n",
    "import seaborn as sns#; sns.set()\n",
    "from glob import glob\n",
    "from datetime import datetime\n",
    "from common_functions import load_data_stoichometry, generate_figures_and_xls, load_data_train_test_val, generate_figures_and_xls_all_strains"
   ]
  },
  {
   "cell_type": "markdown",
   "metadata": {},
   "source": [
    "## benchmarking of methods and features for varying stoichiometries (Fig S5C)"
   ]
  },
  {
   "cell_type": "code",
   "execution_count": 2,
   "metadata": {},
   "outputs": [
    {
     "name": "stdout",
     "output_type": "stream",
     "text": [
      "[0.  0.2 0.4 0.6 0.8 1. ]\n",
      "['snR3', 'snR34', 'snR36', 'wt'] [('25s', 2129, 'snR3'), ('25s', 2133, 'snR3'), ('25s', 2264, 'snR3'), ('25s', 2826, 'snR34'), ('25s', 2880, 'snR34'), ('18s', 1187, 'snR36')]\n",
      "{'snR3': 0, 'snR34': 1, 'snR36': 2, 'wt': 3}\n"
     ]
    },
    {
     "name": "stderr",
     "output_type": "stream",
     "text": [
      " 6 / 6 18s:1187 \r"
     ]
    },
    {
     "name": "stdout",
     "output_type": "stream",
     "text": [
      "['snR60', 'snR61', 'snR62', 'wt'] [('25s', 1133, 'snR61'), ('25s', 1888, 'snR62'), ('25s', 817, 'snR60'), ('25s', 908, 'snR60')]\n",
      "{'snR60': 0, 'snR61': 1, 'snR62': 2, 'wt': 3}\n"
     ]
    },
    {
     "name": "stderr",
     "output_type": "stream",
     "text": [
      " 4 / 4 25s:908  \r"
     ]
    }
   ],
   "source": [
    "nn = 1 # how many neighbour positions to take into account\n",
    "dt_shift = 10 # expected shift between center of the pore and motor protein in bases\n",
    "features = [\"si\", \"tr\", \"dt0\", \"dt%s\"%dt_shift]\n",
    "\n",
    "fracs = np.arange(0.0, 1.01, 0.2); print(fracs)\n",
    "\n",
    "guppy_ver = \"3.0.3.hac\" #\"4.0.15.hac\"# \n",
    "fasta = \"cc_yeast_rrna.fa\" # reference FastA\n",
    "fnpat = \"guppy%s/RNA814001_*/workspace/*.bam\"%guppy_ver # pattern for all BAM files\n",
    "\n",
    "# load data from first KO experiment\n",
    "regions = [(\"25s\", 2129, \"snR3\"), (\"25s\", 2133, \"snR3\"), (\"25s\", 2264, \"snR3\"), (\"25s\", 2826, \"snR34\"), (\"25s\", 2880, \"snR34\"), (\"18s\", 1187, \"snR36\"), \n",
    "          ]\n",
    "bams = sorted(glob(fnpat))\n",
    "samples1 = [fn.split(os.path.sep)[-3].split(\"_\")[-1] for fn in bams]; print(samples1, regions)\n",
    "region2data = load_data_stoichometry(fasta, bams, regions, features, samples1, fracs, nn=nn)\n",
    "#'''\n",
    "# load data from second KO experiment\n",
    "fnpat2 = \"guppy%s/RNA345944_*/workspace/*.bam\"%guppy_ver\n",
    "regions2 = [('25s', 1133, 'snR61'), ('25s', 1888, 'snR62'), ('25s', 817, 'snR60'), ('25s', 908, 'snR60'), \n",
    "#            ('25s', 1437, ''), ('25s', 867, ''), \n",
    "           ]\n",
    "bams2 = sorted(glob(fnpat2))\n",
    "samples2 = [fn.split(os.path.sep)[-3].split(\"_\")[-1] for fn in bams2]; print(samples2, regions2)\n",
    "region2data.update(load_data_stoichometry(fasta, bams2, regions2, features, samples2, fracs, nn=nn))\n",
    "#'''\n",
    "# define features\n",
    "feature_names = [\"%s_%s\"%(f.upper(), i) for f in features for i in range(-nn, nn+1)]\n",
    "len(feature_names), len(region2data)\n",
    "samples = [\"unmod0\", \"unmod\", \"mod\",]+list(map(str, np.round(fracs, 2)))"
   ]
  },
  {
   "cell_type": "code",
   "execution_count": null,
   "metadata": {},
   "outputs": [],
   "source": []
  },
  {
   "cell_type": "markdown",
   "metadata": {},
   "source": [
    "## estimation of modification frequency across all rRNA wt and mutants (Fig 3J)"
   ]
  },
  {
   "cell_type": "code",
   "execution_count": 3,
   "metadata": {
    "scrolled": true
   },
   "outputs": [
    {
     "name": "stdout",
     "output_type": "stream",
     "text": [
      "GMM+eIF\n",
      "GMM\n",
      "AggClust\n",
      "KMeans\n",
      "OCSVM\n",
      "IF\n",
      "eIF\n",
      "KNN\n",
      "RF\n"
     ]
    }
   ],
   "source": [
    "outdir = \"results/rRNA.per_method\" # output directory\n",
    "ext = \"pdf\" # ext for figures\n",
    "if not os.path.isdir(outdir): \n",
    "    os.makedirs(outdir)\n",
    "\n",
    "group2pos = {\"negative\": [\"25s:1004\", \"25s:986\", \"25s:1437\", \"25s:867\"], \n",
    "             \"pU\": ['18s:1187', '25s:2129', '25s:2133', '25s:2264', '25s:2826', '25s:2880'], \n",
    "             \"Nm\": ['25s:1133', '25s:1888', '25s:817', '25s:908'],\n",
    "            }\n",
    "cols_starts = [(\"SI\",), (\"TR\",), (\"DT0\",), #(\"DT10\",), # individual features\n",
    "               (\"SI\", \"TR\"), (\"SI\", \"DT0\",), #(\"SI\", \"DT10\"), # two type of features\n",
    "               #(\"SI\", \"TR\", \"DT0\"), #(\"SI\", \"TR\", \"DT10\"),\n",
    "              ]\n",
    "# start xls writer to _tables.xlsx\n",
    "xls = pd.ExcelWriter(os.path.join(outdir, '_tables.xlsx'))\n",
    "freqs = generate_figures_and_xls(outdir, cols_starts, region2data, ext, xls, group2pos, feature_names, samples)    \n",
    "xls.close()"
   ]
  },
  {
   "cell_type": "code",
   "execution_count": 4,
   "metadata": {},
   "outputs": [
    {
     "name": "stdout",
     "output_type": "stream",
     "text": [
      "{'snR3': 0, 'snR34': 1, 'snR36': 2, 'wt': 3}\n"
     ]
    },
    {
     "name": "stderr",
     "output_type": "stream",
     "text": [
      " 6 / 6 18s:1187 \r"
     ]
    },
    {
     "name": "stdout",
     "output_type": "stream",
     "text": [
      "{'snR60': 0, 'snR61': 1, 'snR62': 2, 'wt': 3}\n"
     ]
    },
    {
     "name": "stderr",
     "output_type": "stream",
     "text": [
      " 4 / 4 25s:908  \r"
     ]
    }
   ],
   "source": [
    "region2data2 = load_data_train_test_val(fasta, bams, regions, features, samples1, nn=nn)\n",
    "region2data2.update(load_data_train_test_val(fasta, bams2, regions2, features, samples2, nn=nn))"
   ]
  },
  {
   "cell_type": "code",
   "execution_count": 5,
   "metadata": {
    "scrolled": true
   },
   "outputs": [
    {
     "name": "stdout",
     "output_type": "stream",
     "text": [
      "KMeans.SI_TR\n",
      "KMeans.SI_DT0\n",
      "KMeans.SI\n",
      "KMeans.TR\n",
      "KNN.SI_TR\n",
      "KNN.SI_DT0\n",
      "KNN.SI\n",
      "KNN.TR\n",
      "GMM.SI_TR\n",
      "GMM.SI_DT0\n",
      "GMM.SI\n",
      "GMM.TR\n",
      "AggClust.SI_TR\n",
      "AggClust.SI_DT0\n",
      "AggClust.SI\n",
      "AggClust.TR\n",
      "IF.SI_TR\n",
      "IF.SI_DT0\n",
      "IF.SI\n",
      "IF.TR\n",
      "RF.SI_TR\n",
      "RF.SI_DT0\n",
      "RF.SI\n",
      "RF.TR\n"
     ]
    }
   ],
   "source": [
    "outdir = \"results/rRNA.per_method.per_strain\"\n",
    "if not os.path.isdir(outdir): os.makedirs(outdir)\n",
    "group2pos = {#\"negative\": [\"25s:1004\", \"25s:986\", \"25s:1437\", \"25s:867\"], \n",
    "             \"pU\": ['18s:1187', '25s:2129', '25s:2133', '25s:2264', '25s:2826', '25s:2880'], \n",
    "             \"Nm\": ['25s:1133', '25s:1888', '25s:817', '25s:908'],\n",
    "            }\n",
    "cols_starts = [(\"SI\", \"TR\"), (\"SI\", \"DT0\"), (\"SI\", ), (\"TR\", ), ]\n",
    "xls = pd.ExcelWriter(os.path.join(outdir, '_tables.xlsx'))\n",
    "all_freqs = generate_figures_and_xls_all_strains(outdir, cols_starts, region2data2, ext, xls, group2pos, feature_names, [\"unmod0\", \"unmod\", \"mod\",]+samples1)\n",
    "xls.close()"
   ]
  }
 ],
 "metadata": {
  "kernelspec": {
   "display_name": "Python 3",
   "language": "python",
   "name": "python3"
  },
  "language_info": {
   "codemirror_mode": {
    "name": "ipython",
    "version": 3
   },
   "file_extension": ".py",
   "mimetype": "text/x-python",
   "name": "python",
   "nbconvert_exporter": "python",
   "pygments_lexer": "ipython3",
   "version": "3.7.6"
  }
 },
 "nbformat": 4,
 "nbformat_minor": 4
}
